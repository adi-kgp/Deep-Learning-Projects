{
  "nbformat": 4,
  "nbformat_minor": 0,
  "metadata": {
    "colab": {
      "provenance": []
    },
    "kernelspec": {
      "name": "python3",
      "display_name": "Python 3"
    },
    "language_info": {
      "name": "python"
    }
  },
  "cells": [
    {
      "cell_type": "markdown",
      "source": [
        "### Stock Price Prediction \n",
        "\n",
        "**Description:** This program uses an artificial recurrent neural network called Long Short Term Memory (LSTM) to predict the closing stock price of a corporation (Apple Inc.) using the past 60 day stock price. "
      ],
      "metadata": {
        "id": "Uz_ez3ZLCj4Y"
      }
    },
    {
      "cell_type": "code",
      "source": [
        "!pip install -q --upgrade pandas\n",
        "!pip install -q --upgrade pandas-datareader"
      ],
      "metadata": {
        "colab": {
          "base_uri": "https://localhost:8080/"
        },
        "id": "3JotgprsErGp",
        "outputId": "a64eb826-2f5d-4cd3-cc0c-1e75324cbcba"
      },
      "execution_count": 2,
      "outputs": [
        {
          "output_type": "stream",
          "name": "stdout",
          "text": [
            "\u001b[?25l\r\u001b[K     |███                             | 10 kB 18.1 MB/s eta 0:00:01\r\u001b[K     |██████                          | 20 kB 20.1 MB/s eta 0:00:01\r\u001b[K     |█████████                       | 30 kB 25.0 MB/s eta 0:00:01\r\u001b[K     |████████████                    | 40 kB 28.3 MB/s eta 0:00:01\r\u001b[K     |███████████████                 | 51 kB 31.2 MB/s eta 0:00:01\r\u001b[K     |██████████████████              | 61 kB 34.5 MB/s eta 0:00:01\r\u001b[K     |█████████████████████           | 71 kB 17.0 MB/s eta 0:00:01\r\u001b[K     |████████████████████████        | 81 kB 18.0 MB/s eta 0:00:01\r\u001b[K     |███████████████████████████     | 92 kB 19.3 MB/s eta 0:00:01\r\u001b[K     |██████████████████████████████  | 102 kB 20.2 MB/s eta 0:00:01\r\u001b[K     |████████████████████████████████| 109 kB 20.2 MB/s \n",
            "\u001b[?25h"
          ]
        }
      ]
    },
    {
      "cell_type": "code",
      "source": [
        "# import the libraries\n",
        "import math\n",
        "import pandas_datareader as web\n",
        "import numpy as np\n",
        "import pandas as pd\n",
        "from sklearn.preprocessing import MinMaxScaler\n",
        "from keras.models import Sequential\n",
        "from keras.layers import Dense, LSTM\n",
        "import matplotlib.pyplot as plt\n",
        "plt.style.use('fivethirtyeight')"
      ],
      "metadata": {
        "id": "i_MGtsqFDDOP"
      },
      "execution_count": 15,
      "outputs": []
    },
    {
      "cell_type": "code",
      "source": [
        "# Get the stock quote\n",
        "df = web.DataReader('AAPL', data_source = 'yahoo', start='2014-01-01', end='2021-12-17')\n",
        "# Show the data\n",
        "df"
      ],
      "metadata": {
        "colab": {
          "base_uri": "https://localhost:8080/",
          "height": 455
        },
        "id": "cQIwqDaOD0s2",
        "outputId": "18cf2ae3-cc18-43b2-a7ae-41f62eddbe39"
      },
      "execution_count": 4,
      "outputs": [
        {
          "output_type": "execute_result",
          "data": {
            "text/plain": [
              "                  High         Low        Open       Close       Volume  \\\n",
              "Date                                                                      \n",
              "2014-01-02   19.893929   19.715000   19.845715   19.754642  234684800.0   \n",
              "2014-01-03   19.775000   19.301071   19.745001   19.320715  392467600.0   \n",
              "2014-01-06   19.528570   19.057142   19.194643   19.426071  412610800.0   \n",
              "2014-01-07   19.498571   19.211430   19.440001   19.287144  317209200.0   \n",
              "2014-01-08   19.484285   19.238930   19.243214   19.409286  258529600.0   \n",
              "...                ...         ...         ...         ...          ...   \n",
              "2021-12-13  182.130005  175.529999  181.119995  175.740005  153237000.0   \n",
              "2021-12-14  177.740005  172.210007  175.250000  174.330002  139380400.0   \n",
              "2021-12-15  179.500000  172.309998  175.110001  179.300003  131063300.0   \n",
              "2021-12-16  181.139999  170.750000  179.279999  172.259995  150185800.0   \n",
              "2021-12-17  173.470001  169.690002  169.929993  171.139999  195432700.0   \n",
              "\n",
              "             Adj Close  \n",
              "Date                    \n",
              "2014-01-02   17.444426  \n",
              "2014-01-03   17.061243  \n",
              "2014-01-06   17.154276  \n",
              "2014-01-07   17.031593  \n",
              "2014-01-08   17.139448  \n",
              "...                ...  \n",
              "2021-12-13  175.015793  \n",
              "2021-12-14  173.611588  \n",
              "2021-12-15  178.561111  \n",
              "2021-12-16  171.550095  \n",
              "2021-12-17  170.434723  \n",
              "\n",
              "[2006 rows x 6 columns]"
            ],
            "text/html": [
              "\n",
              "  <div id=\"df-436c768b-058f-4166-88b2-0982fc449545\">\n",
              "    <div class=\"colab-df-container\">\n",
              "      <div>\n",
              "<style scoped>\n",
              "    .dataframe tbody tr th:only-of-type {\n",
              "        vertical-align: middle;\n",
              "    }\n",
              "\n",
              "    .dataframe tbody tr th {\n",
              "        vertical-align: top;\n",
              "    }\n",
              "\n",
              "    .dataframe thead th {\n",
              "        text-align: right;\n",
              "    }\n",
              "</style>\n",
              "<table border=\"1\" class=\"dataframe\">\n",
              "  <thead>\n",
              "    <tr style=\"text-align: right;\">\n",
              "      <th></th>\n",
              "      <th>High</th>\n",
              "      <th>Low</th>\n",
              "      <th>Open</th>\n",
              "      <th>Close</th>\n",
              "      <th>Volume</th>\n",
              "      <th>Adj Close</th>\n",
              "    </tr>\n",
              "    <tr>\n",
              "      <th>Date</th>\n",
              "      <th></th>\n",
              "      <th></th>\n",
              "      <th></th>\n",
              "      <th></th>\n",
              "      <th></th>\n",
              "      <th></th>\n",
              "    </tr>\n",
              "  </thead>\n",
              "  <tbody>\n",
              "    <tr>\n",
              "      <th>2014-01-02</th>\n",
              "      <td>19.893929</td>\n",
              "      <td>19.715000</td>\n",
              "      <td>19.845715</td>\n",
              "      <td>19.754642</td>\n",
              "      <td>234684800.0</td>\n",
              "      <td>17.444426</td>\n",
              "    </tr>\n",
              "    <tr>\n",
              "      <th>2014-01-03</th>\n",
              "      <td>19.775000</td>\n",
              "      <td>19.301071</td>\n",
              "      <td>19.745001</td>\n",
              "      <td>19.320715</td>\n",
              "      <td>392467600.0</td>\n",
              "      <td>17.061243</td>\n",
              "    </tr>\n",
              "    <tr>\n",
              "      <th>2014-01-06</th>\n",
              "      <td>19.528570</td>\n",
              "      <td>19.057142</td>\n",
              "      <td>19.194643</td>\n",
              "      <td>19.426071</td>\n",
              "      <td>412610800.0</td>\n",
              "      <td>17.154276</td>\n",
              "    </tr>\n",
              "    <tr>\n",
              "      <th>2014-01-07</th>\n",
              "      <td>19.498571</td>\n",
              "      <td>19.211430</td>\n",
              "      <td>19.440001</td>\n",
              "      <td>19.287144</td>\n",
              "      <td>317209200.0</td>\n",
              "      <td>17.031593</td>\n",
              "    </tr>\n",
              "    <tr>\n",
              "      <th>2014-01-08</th>\n",
              "      <td>19.484285</td>\n",
              "      <td>19.238930</td>\n",
              "      <td>19.243214</td>\n",
              "      <td>19.409286</td>\n",
              "      <td>258529600.0</td>\n",
              "      <td>17.139448</td>\n",
              "    </tr>\n",
              "    <tr>\n",
              "      <th>...</th>\n",
              "      <td>...</td>\n",
              "      <td>...</td>\n",
              "      <td>...</td>\n",
              "      <td>...</td>\n",
              "      <td>...</td>\n",
              "      <td>...</td>\n",
              "    </tr>\n",
              "    <tr>\n",
              "      <th>2021-12-13</th>\n",
              "      <td>182.130005</td>\n",
              "      <td>175.529999</td>\n",
              "      <td>181.119995</td>\n",
              "      <td>175.740005</td>\n",
              "      <td>153237000.0</td>\n",
              "      <td>175.015793</td>\n",
              "    </tr>\n",
              "    <tr>\n",
              "      <th>2021-12-14</th>\n",
              "      <td>177.740005</td>\n",
              "      <td>172.210007</td>\n",
              "      <td>175.250000</td>\n",
              "      <td>174.330002</td>\n",
              "      <td>139380400.0</td>\n",
              "      <td>173.611588</td>\n",
              "    </tr>\n",
              "    <tr>\n",
              "      <th>2021-12-15</th>\n",
              "      <td>179.500000</td>\n",
              "      <td>172.309998</td>\n",
              "      <td>175.110001</td>\n",
              "      <td>179.300003</td>\n",
              "      <td>131063300.0</td>\n",
              "      <td>178.561111</td>\n",
              "    </tr>\n",
              "    <tr>\n",
              "      <th>2021-12-16</th>\n",
              "      <td>181.139999</td>\n",
              "      <td>170.750000</td>\n",
              "      <td>179.279999</td>\n",
              "      <td>172.259995</td>\n",
              "      <td>150185800.0</td>\n",
              "      <td>171.550095</td>\n",
              "    </tr>\n",
              "    <tr>\n",
              "      <th>2021-12-17</th>\n",
              "      <td>173.470001</td>\n",
              "      <td>169.690002</td>\n",
              "      <td>169.929993</td>\n",
              "      <td>171.139999</td>\n",
              "      <td>195432700.0</td>\n",
              "      <td>170.434723</td>\n",
              "    </tr>\n",
              "  </tbody>\n",
              "</table>\n",
              "<p>2006 rows × 6 columns</p>\n",
              "</div>\n",
              "      <button class=\"colab-df-convert\" onclick=\"convertToInteractive('df-436c768b-058f-4166-88b2-0982fc449545')\"\n",
              "              title=\"Convert this dataframe to an interactive table.\"\n",
              "              style=\"display:none;\">\n",
              "        \n",
              "  <svg xmlns=\"http://www.w3.org/2000/svg\" height=\"24px\"viewBox=\"0 0 24 24\"\n",
              "       width=\"24px\">\n",
              "    <path d=\"M0 0h24v24H0V0z\" fill=\"none\"/>\n",
              "    <path d=\"M18.56 5.44l.94 2.06.94-2.06 2.06-.94-2.06-.94-.94-2.06-.94 2.06-2.06.94zm-11 1L8.5 8.5l.94-2.06 2.06-.94-2.06-.94L8.5 2.5l-.94 2.06-2.06.94zm10 10l.94 2.06.94-2.06 2.06-.94-2.06-.94-.94-2.06-.94 2.06-2.06.94z\"/><path d=\"M17.41 7.96l-1.37-1.37c-.4-.4-.92-.59-1.43-.59-.52 0-1.04.2-1.43.59L10.3 9.45l-7.72 7.72c-.78.78-.78 2.05 0 2.83L4 21.41c.39.39.9.59 1.41.59.51 0 1.02-.2 1.41-.59l7.78-7.78 2.81-2.81c.8-.78.8-2.07 0-2.86zM5.41 20L4 18.59l7.72-7.72 1.47 1.35L5.41 20z\"/>\n",
              "  </svg>\n",
              "      </button>\n",
              "      \n",
              "  <style>\n",
              "    .colab-df-container {\n",
              "      display:flex;\n",
              "      flex-wrap:wrap;\n",
              "      gap: 12px;\n",
              "    }\n",
              "\n",
              "    .colab-df-convert {\n",
              "      background-color: #E8F0FE;\n",
              "      border: none;\n",
              "      border-radius: 50%;\n",
              "      cursor: pointer;\n",
              "      display: none;\n",
              "      fill: #1967D2;\n",
              "      height: 32px;\n",
              "      padding: 0 0 0 0;\n",
              "      width: 32px;\n",
              "    }\n",
              "\n",
              "    .colab-df-convert:hover {\n",
              "      background-color: #E2EBFA;\n",
              "      box-shadow: 0px 1px 2px rgba(60, 64, 67, 0.3), 0px 1px 3px 1px rgba(60, 64, 67, 0.15);\n",
              "      fill: #174EA6;\n",
              "    }\n",
              "\n",
              "    [theme=dark] .colab-df-convert {\n",
              "      background-color: #3B4455;\n",
              "      fill: #D2E3FC;\n",
              "    }\n",
              "\n",
              "    [theme=dark] .colab-df-convert:hover {\n",
              "      background-color: #434B5C;\n",
              "      box-shadow: 0px 1px 3px 1px rgba(0, 0, 0, 0.15);\n",
              "      filter: drop-shadow(0px 1px 2px rgba(0, 0, 0, 0.3));\n",
              "      fill: #FFFFFF;\n",
              "    }\n",
              "  </style>\n",
              "\n",
              "      <script>\n",
              "        const buttonEl =\n",
              "          document.querySelector('#df-436c768b-058f-4166-88b2-0982fc449545 button.colab-df-convert');\n",
              "        buttonEl.style.display =\n",
              "          google.colab.kernel.accessAllowed ? 'block' : 'none';\n",
              "\n",
              "        async function convertToInteractive(key) {\n",
              "          const element = document.querySelector('#df-436c768b-058f-4166-88b2-0982fc449545');\n",
              "          const dataTable =\n",
              "            await google.colab.kernel.invokeFunction('convertToInteractive',\n",
              "                                                     [key], {});\n",
              "          if (!dataTable) return;\n",
              "\n",
              "          const docLinkHtml = 'Like what you see? Visit the ' +\n",
              "            '<a target=\"_blank\" href=https://colab.research.google.com/notebooks/data_table.ipynb>data table notebook</a>'\n",
              "            + ' to learn more about interactive tables.';\n",
              "          element.innerHTML = '';\n",
              "          dataTable['output_type'] = 'display_data';\n",
              "          await google.colab.output.renderOutput(dataTable, element);\n",
              "          const docLink = document.createElement('div');\n",
              "          docLink.innerHTML = docLinkHtml;\n",
              "          element.appendChild(docLink);\n",
              "        }\n",
              "      </script>\n",
              "    </div>\n",
              "  </div>\n",
              "  "
            ]
          },
          "metadata": {},
          "execution_count": 4
        }
      ]
    },
    {
      "cell_type": "code",
      "source": [
        "# Get the number of rows and columns in the dataset\n",
        "df.shape"
      ],
      "metadata": {
        "colab": {
          "base_uri": "https://localhost:8080/"
        },
        "id": "NymHnIZUEQwY",
        "outputId": "649cc99e-3abb-48c6-b6b2-eec0eb12862a"
      },
      "execution_count": 5,
      "outputs": [
        {
          "output_type": "execute_result",
          "data": {
            "text/plain": [
              "(2006, 6)"
            ]
          },
          "metadata": {},
          "execution_count": 5
        }
      ]
    },
    {
      "cell_type": "code",
      "source": [
        "# Visualize the closing price history\n",
        "plt.figure(figsize=(16,8))\n",
        "plt.title('Close Price History')\n",
        "plt.plot(df['Close'])\n",
        "plt.xlabel('Date', fontsize=18)\n",
        "plt.ylabel('Close Price USD ($)', fontsize=18)\n",
        "plt.show()"
      ],
      "metadata": {
        "colab": {
          "base_uri": "https://localhost:8080/",
          "height": 558
        },
        "id": "RNZtTpqxFVV7",
        "outputId": "7372a551-9c4f-409e-b22f-09fc8f2a6dd1"
      },
      "execution_count": 6,
      "outputs": [
        {
          "output_type": "display_data",
          "data": {
            "text/plain": [
              "<Figure size 1152x576 with 1 Axes>"
            ],
            "image/png": "[encoded data removed]"
          },
          "metadata": {}
        }
      ]
    },
    {
      "cell_type": "code",
      "source": [
        "# Create a new dataframewith only the 'Close' column\n",
        "data = df.filter(['Close'])\n",
        "# Convert the dataframe to a numpy array\n",
        "dataset = data.values\n",
        "# Get the number of rows to train the model on \n",
        "training_data_len = math.ceil(len(dataset) * 0.8)\n",
        "\n",
        "training_data_len"
      ],
      "metadata": {
        "colab": {
          "base_uri": "https://localhost:8080/"
        },
        "id": "WcqcA8xnF-e9",
        "outputId": "85cc9fd4-46c2-4fec-a1af-33ff9d4e3065"
      },
      "execution_count": 7,
      "outputs": [
        {
          "output_type": "execute_result",
          "data": {
            "text/plain": [
              "1605"
            ]
          },
          "metadata": {},
          "execution_count": 7
        }
      ]
    },
    {
      "cell_type": "code",
      "source": [
        "# Scale the data\n",
        "scaler = MinMaxScaler(feature_range=(0,1))\n",
        "scaled_data = scaler.fit_transform(dataset)\n",
        "\n",
        "scaled_data"
      ],
      "metadata": {
        "colab": {
          "base_uri": "https://localhost:8080/"
        },
        "id": "nzFWQm7BJZoB",
        "outputId": "19342582-169f-408c-d1da-8b92865697da"
      },
      "execution_count": 8,
      "outputs": [
        {
          "output_type": "execute_result",
          "data": {
            "text/plain": [
              "array([[0.01179053],\n",
              "       [0.00910534],\n",
              "       [0.0097573 ],\n",
              "       ...,\n",
              "       [0.99907182],\n",
              "       [0.95550761],\n",
              "       [0.94857697]])"
            ]
          },
          "metadata": {},
          "execution_count": 8
        }
      ]
    },
    {
      "cell_type": "code",
      "source": [
        "# Create the training dataset\n",
        "# Create the scaled training dataset\n",
        "train_data = scaled_data[0:training_data_len, :]\n",
        "# Split the data into x_train and y_train datasets \n",
        "x_train = []\n",
        "y_train = []\n",
        "\n",
        "for i in range(60, len(train_data)):\n",
        "    x_train.append(train_data[i-60: i, 0])\n",
        "    y_train.append(train_data[i, 0])\n",
        "    if i <= 61:\n",
        "        print(x_train)\n",
        "        print(y_train)\n",
        "        print()"
      ],
      "metadata": {
        "colab": {
          "base_uri": "https://localhost:8080/"
        },
        "id": "Zae8WSilJ6G9",
        "outputId": "11923f7d-68e4-43be-ed84-910a93827f28"
      },
      "execution_count": 9,
      "outputs": [
        {
          "output_type": "stream",
          "name": "stdout",
          "text": [
            "[array([0.01179053, 0.00910534, 0.0097573 , 0.0088976 , 0.00965343,\n",
            "       0.00811966, 0.00732847, 0.00794508, 0.01030097, 0.01272537,\n",
            "       0.01203806, 0.00903683, 0.01089326, 0.01143251, 0.01246459,\n",
            "       0.01023025, 0.01120928, 0.00148515, 0.00021438, 0.        ,\n",
            "       0.00018122, 0.00038676, 0.00199123, 0.00283105, 0.00281337,\n",
            "       0.00439797, 0.00645551, 0.00799591, 0.00798706, 0.00986781,\n",
            "       0.00977055, 0.01021257, 0.00830752, 0.00693287, 0.00562896,\n",
            "       0.00613726, 0.00492396, 0.00388303, 0.00616379, 0.00584776,\n",
            "       0.00618368, 0.00695276, 0.00720029, 0.00684447, 0.00677597,\n",
            "       0.00688205, 0.00802463, 0.00813955, 0.00682238, 0.0055052 ,\n",
            "       0.00595825, 0.00698812, 0.00695719, 0.00639142, 0.007313  ,\n",
            "       0.00870975, 0.00999156, 0.00884013, 0.0083274 , 0.0081948 ])]\n",
            "[0.008168290766086744]\n",
            "\n",
            "[array([0.01179053, 0.00910534, 0.0097573 , 0.0088976 , 0.00965343,\n",
            "       0.00811966, 0.00732847, 0.00794508, 0.01030097, 0.01272537,\n",
            "       0.01203806, 0.00903683, 0.01089326, 0.01143251, 0.01246459,\n",
            "       0.01023025, 0.01120928, 0.00148515, 0.00021438, 0.        ,\n",
            "       0.00018122, 0.00038676, 0.00199123, 0.00283105, 0.00281337,\n",
            "       0.00439797, 0.00645551, 0.00799591, 0.00798706, 0.00986781,\n",
            "       0.00977055, 0.01021257, 0.00830752, 0.00693287, 0.00562896,\n",
            "       0.00613726, 0.00492396, 0.00388303, 0.00616379, 0.00584776,\n",
            "       0.00618368, 0.00695276, 0.00720029, 0.00684447, 0.00677597,\n",
            "       0.00688205, 0.00802463, 0.00813955, 0.00682238, 0.0055052 ,\n",
            "       0.00595825, 0.00698812, 0.00695719, 0.00639142, 0.007313  ,\n",
            "       0.00870975, 0.00999156, 0.00884013, 0.0083274 , 0.0081948 ]), array([0.00910534, 0.0097573 , 0.0088976 , 0.00965343, 0.00811966,\n",
            "       0.00732847, 0.00794508, 0.01030097, 0.01272537, 0.01203806,\n",
            "       0.00903683, 0.01089326, 0.01143251, 0.01246459, 0.01023025,\n",
            "       0.01120928, 0.00148515, 0.00021438, 0.        , 0.00018122,\n",
            "       0.00038676, 0.00199123, 0.00283105, 0.00281337, 0.00439797,\n",
            "       0.00645551, 0.00799591, 0.00798706, 0.00986781, 0.00977055,\n",
            "       0.01021257, 0.00830752, 0.00693287, 0.00562896, 0.00613726,\n",
            "       0.00492396, 0.00388303, 0.00616379, 0.00584776, 0.00618368,\n",
            "       0.00695276, 0.00720029, 0.00684447, 0.00677597, 0.00688205,\n",
            "       0.00802463, 0.00813955, 0.00682238, 0.0055052 , 0.00595825,\n",
            "       0.00698812, 0.00695719, 0.00639142, 0.007313  , 0.00870975,\n",
            "       0.00999156, 0.00884013, 0.0083274 , 0.0081948 , 0.00816829])]\n",
            "[0.008168290766086744, 0.009253409199522111]\n",
            "\n"
          ]
        }
      ]
    },
    {
      "cell_type": "code",
      "source": [
        "# Convert the x_train and y_train to numpy arrays \n",
        "x_train, y_train = np.array(x_train), np.array(y_train)"
      ],
      "metadata": {
        "id": "AOOrj8nQLYB5"
      },
      "execution_count": 10,
      "outputs": []
    },
    {
      "cell_type": "code",
      "source": [
        "# Reshape the data\n",
        "x_train = np.reshape(x_train, (x_train.shape[0], x_train.shape[1], 1))\n",
        "x_train.shape"
      ],
      "metadata": {
        "colab": {
          "base_uri": "https://localhost:8080/"
        },
        "id": "7lh3ifHPsGfp",
        "outputId": "943255eb-757e-4adc-f9fb-41d7c5a0dfaf"
      },
      "execution_count": 12,
      "outputs": [
        {
          "output_type": "execute_result",
          "data": {
            "text/plain": [
              "(1545, 60, 1)"
            ]
          },
          "metadata": {},
          "execution_count": 12
        }
      ]
    },
    {
      "cell_type": "code",
      "source": [
        "# Build the LSTM model \n",
        "model = Sequential()\n",
        "model.add(LSTM(50, return_sequences = True, input_shape = (x_train.shape[1], 1)))\n",
        "model.add(LSTM(50, return_sequences = False))\n",
        "model.add(Dense(25))\n",
        "model.add(Dense(1))"
      ],
      "metadata": {
        "id": "RBwvJXBlsjKB"
      },
      "execution_count": 17,
      "outputs": []
    },
    {
      "cell_type": "code",
      "source": [
        "# Compile the model\n",
        "model.compile(optimizer = 'adam', loss='mean_squared_error')"
      ],
      "metadata": {
        "id": "JDVpbWl5t_uK"
      },
      "execution_count": 18,
      "outputs": []
    },
    {
      "cell_type": "code",
      "source": [
        "# Train the model\n",
        "model.fit(x_train, y_train, batch_size = 1, epochs=1)"
      ],
      "metadata": {
        "colab": {
          "base_uri": "https://localhost:8080/"
        },
        "id": "0cFMCgGCvqUY",
        "outputId": "3feec845-c6bc-4386-ff3c-5f4a4ad2a59e"
      },
      "execution_count": 19,
      "outputs": [
        {
          "output_type": "stream",
          "name": "stdout",
          "text": [
            "1545/1545 [==============================] - 48s 29ms/step - loss: 3.5752e-04\n"
          ]
        },
        {
          "output_type": "execute_result",
          "data": {
            "text/plain": [
              "<keras.callbacks.History at 0x7f458cf88bd0>"
            ]
          },
          "metadata": {},
          "execution_count": 19
        }
      ]
    },
    {
      "cell_type": "code",
      "source": [
        "# Create the test data set \n",
        "# Create a new array containing scaled values from index 1545 to 2005\n",
        "test_data = scaled_data[training_data_len - 60: , :]\n",
        "# Create the data sets x_test and y_test\n",
        "x_test = []\n",
        "y_test = dataset[training_data_len:, :]\n",
        "for i in range(60, len(test_data)):\n",
        "    x_test.append(test_data[i-60:i, 0])"
      ],
      "metadata": {
        "id": "Q847mnqfv8jM"
      },
      "execution_count": 20,
      "outputs": []
    },
    {
      "cell_type": "code",
      "source": [
        "# Convert the data to a numpy array\n",
        "x_test = np.array(x_test)"
      ],
      "metadata": {
        "id": "-DRDO-lFx8SR"
      },
      "execution_count": 21,
      "outputs": []
    },
    {
      "cell_type": "code",
      "source": [
        "# Reshape the data\n",
        "x_test = np.reshape(x_test, (x_test.shape[0], x_test.shape[1], 1))"
      ],
      "metadata": {
        "id": "-s2yN_tWyRFQ"
      },
      "execution_count": 22,
      "outputs": []
    },
    {
      "cell_type": "code",
      "source": [
        "# Get the models predicted price values\n",
        "predictions = model.predict(x_test)\n",
        "predictions = scaler.inverse_transform(predictions)"
      ],
      "metadata": {
        "colab": {
          "base_uri": "https://localhost:8080/"
        },
        "id": "LjeZeT_fysjJ",
        "outputId": "ca61e454-a117-49c8-eb2f-f7ef05fb6768"
      },
      "execution_count": 23,
      "outputs": [
        {
          "output_type": "stream",
          "name": "stdout",
          "text": [
            "13/13 [==============================] - 2s 17ms/step\n"
          ]
        }
      ]
    },
    {
      "cell_type": "code",
      "source": [
        "# Get the root mean squared error (RMSE) \n",
        "rmse = np.sqrt(np.mean(predictions - y_test)**2)\n",
        "rmse"
      ],
      "metadata": {
        "colab": {
          "base_uri": "https://localhost:8080/"
        },
        "id": "jnLKbGr8zEjS",
        "outputId": "99d22ca5-d2c5-4143-fc07-65ffefbad57b"
      },
      "execution_count": 24,
      "outputs": [
        {
          "output_type": "execute_result",
          "data": {
            "text/plain": [
              "3.993754741259644"
            ]
          },
          "metadata": {},
          "execution_count": 24
        }
      ]
    },
    {
      "cell_type": "code",
      "source": [
        "# Plot the data\n",
        "train = data[:training_data_len]\n",
        "valid = data[training_data_len:]\n",
        "valid['Predictions'] = predictions\n",
        "#Visualize the model\n",
        "plt.figure(figsize=(16,8))\n",
        "plt.title('Model')\n",
        "plt.xlabel('Date', fontsize=18)\n",
        "plt.ylabel('Close Price USD($)', fontsize=18)\n",
        "plt.plot(train['Close'])\n",
        "plt.plot(valid[['Close', 'Predictions']])\n",
        "plt.legend(['Train', 'Val', 'Predictions'], loc='lower right')\n",
        "plt.show()"
      ],
      "metadata": {
        "colab": {
          "base_uri": "https://localhost:8080/",
          "height": 662
        },
        "id": "rZOPxpxozrcw",
        "outputId": "afa08a62-83f3-434f-a145-6ac9bcb78a02"
      },
      "execution_count": 25,
      "outputs": [
        {
          "output_type": "stream",
          "name": "stderr",
          "text": [
            "/usr/local/lib/python3.7/dist-packages/ipykernel_launcher.py:4: SettingWithCopyWarning: \n",
            "A value is trying to be set on a copy of a slice from a DataFrame.\n",
            "Try using .loc[row_indexer,col_indexer] = value instead\n",
            "\n",
            "See the caveats in the documentation: https://pandas.pydata.org/pandas-docs/stable/user_guide/indexing.html#returning-a-view-versus-a-copy\n",
            "  after removing the cwd from sys.path.\n"
          ]
        },
        {
          "output_type": "display_data",
          "data": {
            "text/plain": [
              "<Figure size 1152x576 with 1 Axes>"
            ],
            "image/png": "[encoded data removed]"
          },
          "metadata": {}
        }
      ]
    },
    {
      "cell_type": "code",
      "source": [
        "# Show the valid and predicted prices\n",
        "valid"
      ],
      "metadata": {
        "colab": {
          "base_uri": "https://localhost:8080/",
          "height": 455
        },
        "id": "kcZtmoUP1Uk3",
        "outputId": "94eee22e-0418-4531-b547-e6a6a4ebde2c"
      },
      "execution_count": 26,
      "outputs": [
        {
          "output_type": "execute_result",
          "data": {
            "text/plain": [
              "                 Close  Predictions\n",
              "Date                               \n",
              "2020-05-19   78.285004    77.120796\n",
              "2020-05-20   79.807503    77.314720\n",
              "2020-05-21   79.212502    77.642525\n",
              "2020-05-22   79.722504    77.933693\n",
              "2020-05-26   79.182503    78.231522\n",
              "...                ...          ...\n",
              "2021-12-13  175.740005   165.056656\n",
              "2021-12-14  174.330002   166.819260\n",
              "2021-12-15  179.300003   167.854950\n",
              "2021-12-16  172.259995   169.002167\n",
              "2021-12-17  171.139999   169.078476\n",
              "\n",
              "[401 rows x 2 columns]"
            ],
            "text/html": [
              "\n",
              "  <div id=\"df-b005be46-9d41-4725-a9c4-8331339fb06c\">\n",
              "    <div class=\"colab-df-container\">\n",
              "      <div>\n",
              "<style scoped>\n",
              "    .dataframe tbody tr th:only-of-type {\n",
              "        vertical-align: middle;\n",
              "    }\n",
              "\n",
              "    .dataframe tbody tr th {\n",
              "        vertical-align: top;\n",
              "    }\n",
              "\n",
              "    .dataframe thead th {\n",
              "        text-align: right;\n",
              "    }\n",
              "</style>\n",
              "<table border=\"1\" class=\"dataframe\">\n",
              "  <thead>\n",
              "    <tr style=\"text-align: right;\">\n",
              "      <th></th>\n",
              "      <th>Close</th>\n",
              "      <th>Predictions</th>\n",
              "    </tr>\n",
              "    <tr>\n",
              "      <th>Date</th>\n",
              "      <th></th>\n",
              "      <th></th>\n",
              "    </tr>\n",
              "  </thead>\n",
              "  <tbody>\n",
              "    <tr>\n",
              "      <th>2020-05-19</th>\n",
              "      <td>78.285004</td>\n",
              "      <td>77.120796</td>\n",
              "    </tr>\n",
              "    <tr>\n",
              "      <th>2020-05-20</th>\n",
              "      <td>79.807503</td>\n",
              "      <td>77.314720</td>\n",
              "    </tr>\n",
              "    <tr>\n",
              "      <th>2020-05-21</th>\n",
              "      <td>79.212502</td>\n",
              "      <td>77.642525</td>\n",
              "    </tr>\n",
              "    <tr>\n",
              "      <th>2020-05-22</th>\n",
              "      <td>79.722504</td>\n",
              "      <td>77.933693</td>\n",
              "    </tr>\n",
              "    <tr>\n",
              "      <th>2020-05-26</th>\n",
              "      <td>79.182503</td>\n",
              "      <td>78.231522</td>\n",
              "    </tr>\n",
              "    <tr>\n",
              "      <th>...</th>\n",
              "      <td>...</td>\n",
              "      <td>...</td>\n",
              "    </tr>\n",
              "    <tr>\n",
              "      <th>2021-12-13</th>\n",
              "      <td>175.740005</td>\n",
              "      <td>165.056656</td>\n",
              "    </tr>\n",
              "    <tr>\n",
              "      <th>2021-12-14</th>\n",
              "      <td>174.330002</td>\n",
              "      <td>166.819260</td>\n",
              "    </tr>\n",
              "    <tr>\n",
              "      <th>2021-12-15</th>\n",
              "      <td>179.300003</td>\n",
              "      <td>167.854950</td>\n",
              "    </tr>\n",
              "    <tr>\n",
              "      <th>2021-12-16</th>\n",
              "      <td>172.259995</td>\n",
              "      <td>169.002167</td>\n",
              "    </tr>\n",
              "    <tr>\n",
              "      <th>2021-12-17</th>\n",
              "      <td>171.139999</td>\n",
              "      <td>169.078476</td>\n",
              "    </tr>\n",
              "  </tbody>\n",
              "</table>\n",
              "<p>401 rows × 2 columns</p>\n",
              "</div>\n",
              "      <button class=\"colab-df-convert\" onclick=\"convertToInteractive('df-b005be46-9d41-4725-a9c4-8331339fb06c')\"\n",
              "              title=\"Convert this dataframe to an interactive table.\"\n",
              "              style=\"display:none;\">\n",
              "        \n",
              "  <svg xmlns=\"http://www.w3.org/2000/svg\" height=\"24px\"viewBox=\"0 0 24 24\"\n",
              "       width=\"24px\">\n",
              "    <path d=\"M0 0h24v24H0V0z\" fill=\"none\"/>\n",
              "    <path d=\"M18.56 5.44l.94 2.06.94-2.06 2.06-.94-2.06-.94-.94-2.06-.94 2.06-2.06.94zm-11 1L8.5 8.5l.94-2.06 2.06-.94-2.06-.94L8.5 2.5l-.94 2.06-2.06.94zm10 10l.94 2.06.94-2.06 2.06-.94-2.06-.94-.94-2.06-.94 2.06-2.06.94z\"/><path d=\"M17.41 7.96l-1.37-1.37c-.4-.4-.92-.59-1.43-.59-.52 0-1.04.2-1.43.59L10.3 9.45l-7.72 7.72c-.78.78-.78 2.05 0 2.83L4 21.41c.39.39.9.59 1.41.59.51 0 1.02-.2 1.41-.59l7.78-7.78 2.81-2.81c.8-.78.8-2.07 0-2.86zM5.41 20L4 18.59l7.72-7.72 1.47 1.35L5.41 20z\"/>\n",
              "  </svg>\n",
              "      </button>\n",
              "      \n",
              "  <style>\n",
              "    .colab-df-container {\n",
              "      display:flex;\n",
              "      flex-wrap:wrap;\n",
              "      gap: 12px;\n",
              "    }\n",
              "\n",
              "    .colab-df-convert {\n",
              "      background-color: #E8F0FE;\n",
              "      border: none;\n",
              "      border-radius: 50%;\n",
              "      cursor: pointer;\n",
              "      display: none;\n",
              "      fill: #1967D2;\n",
              "      height: 32px;\n",
              "      padding: 0 0 0 0;\n",
              "      width: 32px;\n",
              "    }\n",
              "\n",
              "    .colab-df-convert:hover {\n",
              "      background-color: #E2EBFA;\n",
              "      box-shadow: 0px 1px 2px rgba(60, 64, 67, 0.3), 0px 1px 3px 1px rgba(60, 64, 67, 0.15);\n",
              "      fill: #174EA6;\n",
              "    }\n",
              "\n",
              "    [theme=dark] .colab-df-convert {\n",
              "      background-color: #3B4455;\n",
              "      fill: #D2E3FC;\n",
              "    }\n",
              "\n",
              "    [theme=dark] .colab-df-convert:hover {\n",
              "      background-color: #434B5C;\n",
              "      box-shadow: 0px 1px 3px 1px rgba(0, 0, 0, 0.15);\n",
              "      filter: drop-shadow(0px 1px 2px rgba(0, 0, 0, 0.3));\n",
              "      fill: #FFFFFF;\n",
              "    }\n",
              "  </style>\n",
              "\n",
              "      <script>\n",
              "        const buttonEl =\n",
              "          document.querySelector('#df-b005be46-9d41-4725-a9c4-8331339fb06c button.colab-df-convert');\n",
              "        buttonEl.style.display =\n",
              "          google.colab.kernel.accessAllowed ? 'block' : 'none';\n",
              "\n",
              "        async function convertToInteractive(key) {\n",
              "          const element = document.querySelector('#df-b005be46-9d41-4725-a9c4-8331339fb06c');\n",
              "          const dataTable =\n",
              "            await google.colab.kernel.invokeFunction('convertToInteractive',\n",
              "                                                     [key], {});\n",
              "          if (!dataTable) return;\n",
              "\n",
              "          const docLinkHtml = 'Like what you see? Visit the ' +\n",
              "            '<a target=\"_blank\" href=https://colab.research.google.com/notebooks/data_table.ipynb>data table notebook</a>'\n",
              "            + ' to learn more about interactive tables.';\n",
              "          element.innerHTML = '';\n",
              "          dataTable['output_type'] = 'display_data';\n",
              "          await google.colab.output.renderOutput(dataTable, element);\n",
              "          const docLink = document.createElement('div');\n",
              "          docLink.innerHTML = docLinkHtml;\n",
              "          element.appendChild(docLink);\n",
              "        }\n",
              "      </script>\n",
              "    </div>\n",
              "  </div>\n",
              "  "
            ]
          },
          "metadata": {},
          "execution_count": 26
        }
      ]
    },
    {
      "cell_type": "code",
      "source": [
        "# Get the Quote\n",
        "apple_quote = web.DataReader('AAPL', data_source='yahoo', start='2014-01-01', end='2021-12-20')\n",
        "# Create a new dataframe\n",
        "new_df = apple_quote.filter(['Close'])\n",
        "# Get the last 60 day closing price values and convert the dataframe to an array\n",
        "last_60_days = new_df[-60:].values\n",
        "# Scale the data to be values between 0 and 1\n",
        "last_60_days_scaled = scaler.transform(last_60_days)\n",
        "# Create an empty list\n",
        "X_test = []\n",
        "# Append the past 60 days\n",
        "X_test.append(last_60_days_scaled)\n",
        "# Convert the X_test dataset to a numpy array\n",
        "X_test = np.array(X_test)\n",
        "# Reshape the data \n",
        "X_test = np.reshape(X_test, (X_test.shape[0], X_test.shape[1], 1))\n",
        "# Get the predicted scaled price\n",
        "pred_price = model.predict(X_test)\n",
        "# Undo the scaling\n",
        "pred_price = scaler.inverse_transform(pred_price)\n",
        "print(pred_price)"
      ],
      "metadata": {
        "colab": {
          "base_uri": "https://localhost:8080/"
        },
        "id": "9LBjjmdH1r0G",
        "outputId": "ce439a40-9be4-4149-87f8-70c3b1ab5084"
      },
      "execution_count": 31,
      "outputs": [
        {
          "output_type": "stream",
          "name": "stdout",
          "text": [
            "1/1 [==============================] - 0s 24ms/step\n",
            "[[167.35448]]\n"
          ]
        }
      ]
    },
    {
      "cell_type": "code",
      "source": [
        "# Get the Quote\n",
        "apple_quote2 = web.DataReader('AAPL', data_source='yahoo', start='2021-12-21', end='2021-12-21')\n",
        "print(apple_quote2['Close'])"
      ],
      "metadata": {
        "colab": {
          "base_uri": "https://localhost:8080/"
        },
        "id": "f6Y-WSWV5uhC",
        "outputId": "bfd1ef70-698e-4344-fe15-89922608ba47"
      },
      "execution_count": 32,
      "outputs": [
        {
          "output_type": "stream",
          "name": "stdout",
          "text": [
            "Date\n",
            "2021-12-21    172.990005\n",
            "Name: Close, dtype: float64\n"
          ]
        }
      ]
    },
    {
      "cell_type": "code",
      "source": [],
      "metadata": {
        "id": "NeZJ2oB-6JGg"
      },
      "execution_count": null,
      "outputs": []
    }
  ]
}